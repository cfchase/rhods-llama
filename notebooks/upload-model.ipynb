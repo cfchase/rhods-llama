{
 "cells": [
  {
   "cell_type": "code",
   "execution_count": null,
   "id": "346ff85b-b2f0-4c8f-8a1a-dbdffcb705b9",
   "metadata": {},
   "outputs": [],
   "source": [
    "!pip install boto3 botocore"
   ]
  },
  {
   "cell_type": "code",
   "execution_count": null,
   "id": "6ee017b0-c6b8-4050-956f-1afed4ff53ac",
   "metadata": {},
   "outputs": [],
   "source": [
    "import os\n",
    "import boto3\n",
    "import botocore\n",
    "\n",
    "aws_access_key_id = os.environ.get('AWS_ACCESS_KEY_ID')\n",
    "aws_secret_access_key = os.environ.get('AWS_SECRET_ACCESS_KEY')\n",
    "endpoint_url = os.environ.get('AWS_S3_ENDPOINT')\n",
    "region_name = os.environ.get('AWS_DEFAULT_REGION')\n",
    "bucket_name = os.environ.get('AWS_S3_BUCKET')\n",
    "\n",
    "session = boto3.session.Session(aws_access_key_id=aws_access_key_id,\n",
    "                                aws_secret_access_key=aws_secret_access_key)\n",
    "\n",
    "s3_resource = session.resource(\n",
    "    's3',\n",
    "    config=botocore.client.Config(signature_version='s3v4'),\n",
    "    endpoint_url=endpoint_url,\n",
    "    region_name=region_name)\n",
    "\n",
    "bucket = s3_resource.Bucket(bucket_name)\n",
    "\n",
    "\n",
    "def upload_directory(local_directory, s3_prefix):\n",
    "    for root, dirs, files in os.walk(local_directory):\n",
    "        for filename in files:\n",
    "            file_path = os.path.join(root, filename)\n",
    "            relative_path = os.path.relpath(file_path, local_directory)\n",
    "            s3_key = os.path.join(s3_prefix, relative_path)\n",
    "            print(f\"{file_path} -> {s3_key}\")\n",
    "            bucket.upload_file(file_path, s3_key)\n",
    "\n",
    "\n",
    "def list_objects(prefix):\n",
    "    filter = bucket.objects.filter(Prefix=prefix)\n",
    "    for obj in filter.all():\n",
    "        print(obj.key)\n"
   ]
  },
  {
   "cell_type": "code",
   "execution_count": null,
   "id": "12bda404-5d45-4552-b935-5b79d16bbe02",
   "metadata": {},
   "outputs": [],
   "source": [
    "OUTPUT_DIR = \"Llama-2-7b-chat-hf-fine-tuned-caikit\""
   ]
  },
  {
   "cell_type": "code",
   "execution_count": null,
   "id": "1489967a-3b3f-4cfd-abc4-9c6bacc807ef",
   "metadata": {},
   "outputs": [],
   "source": [
    "upload_directory(OUTPUT_DIR, f\"demo-models/{OUTPUT_DIR}/{OUTPUT_DIR}\")"
   ]
  },
  {
   "cell_type": "code",
   "execution_count": null,
   "id": "d6e17dec-20b5-412d-b7cf-459029588707",
   "metadata": {},
   "outputs": [],
   "source": [
    "list_objects(f\"demo-models/{OUTPUT_DIR}/{OUTPUT_DIR}\")"
   ]
  },
  {
   "cell_type": "code",
   "execution_count": null,
   "id": "f2452894-42e1-4453-aed8-3de0e36440ae",
   "metadata": {},
   "outputs": [],
   "source": []
  }
 ],
 "metadata": {
  "kernelspec": {
   "display_name": "Python 3.9",
   "language": "python",
   "name": "python3"
  },
  "language_info": {
   "codemirror_mode": {
    "name": "ipython",
    "version": 3
   },
   "file_extension": ".py",
   "mimetype": "text/x-python",
   "name": "python",
   "nbconvert_exporter": "python",
   "pygments_lexer": "ipython3",
   "version": "3.9.16"
  }
 },
 "nbformat": 4,
 "nbformat_minor": 5
}
