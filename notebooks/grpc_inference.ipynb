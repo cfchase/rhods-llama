{
 "cells": [
  {
   "cell_type": "markdown",
   "id": "f73046ff",
   "metadata": {},
   "source": [
    "# GRPC Inference"
   ]
  },
  {
   "cell_type": "markdown",
   "id": "443e7e73-24cb-4f03-9491-a6edcc24f0cc",
   "metadata": {
    "tags": []
   },
   "source": [
    "### Setup"
   ]
  },
  {
   "cell_type": "code",
   "execution_count": null,
   "id": "db9df000-a171-4652-8160-272f81e49612",
   "metadata": {},
   "outputs": [],
   "source": [
    "!pip install grpcio grpcio-tools"
   ]
  },
  {
   "cell_type": "code",
   "execution_count": null,
   "id": "1b3ac945-1e6f-401c-b1af-3f8ee30d15df",
   "metadata": {},
   "outputs": [],
   "source": [
    "!wget https://github.com/fullstorydev/grpcurl/releases/download/v1.8.8/grpcurl_1.8.8_linux_x86_64.tar.gz"
   ]
  },
  {
   "cell_type": "code",
   "execution_count": null,
   "id": "3ef54992-d640-45d5-a48f-9048ccab4cd3",
   "metadata": {},
   "outputs": [],
   "source": [
    "!tar -xvzf grpcurl_1.8.8_linux_x86_64.tar.gz"
   ]
  },
  {
   "cell_type": "code",
   "execution_count": null,
   "id": "c3738b6e-6793-42ba-b4ce-5aae29966c7b",
   "metadata": {},
   "outputs": [],
   "source": [
    "!./grpcurl -insecure -d '{\"text\": \"How do you bake a cake?\"}' -H \"mm-model-id: Llama-2-7b-chat-hf\" caikit-example-isvc-predictor-kserve-demo.apps.aisrhods-next.j61u.p1.openshiftapps.com:443 caikit.runtime.Nlp.NlpService/TextGenerationTaskPredict"
   ]
  },
  {
   "cell_type": "code",
   "execution_count": null,
   "id": "42dc0634-3e29-4d01-91f5-2b4912705b9a",
   "metadata": {},
   "outputs": [],
   "source": []
  }
 ],
 "metadata": {
  "kernelspec": {
   "display_name": "Python 3.9",
   "language": "python",
   "name": "python3"
  },
  "language_info": {
   "codemirror_mode": {
    "name": "ipython",
    "version": 3
   },
   "file_extension": ".py",
   "mimetype": "text/x-python",
   "name": "python",
   "nbconvert_exporter": "python",
   "pygments_lexer": "ipython3",
   "version": "3.9.16"
  }
 },
 "nbformat": 4,
 "nbformat_minor": 5
}
